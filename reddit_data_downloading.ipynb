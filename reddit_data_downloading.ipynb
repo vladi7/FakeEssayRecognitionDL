{
  "nbformat": 4,
  "nbformat_minor": 0,
  "metadata": {
    "colab": {
      "name": "Untitled6.ipynb",
      "provenance": [],
      "collapsed_sections": []
    },
    "kernelspec": {
      "name": "python3",
      "display_name": "Python 3"
    }
  },
  "cells": [
    {
      "cell_type": "code",
      "metadata": {
        "id": "IZBmbksEYue9"
      },
      "source": [
        "!pip install git+https://github.com/kedz/rouge_papier.git#egg=rouge_papier"
      ],
      "execution_count": null,
      "outputs": []
    },
    {
      "cell_type": "code",
      "metadata": {
        "id": "pvN7kbFiYzNF"
      },
      "source": [
        "!pip install ujson"
      ],
      "execution_count": null,
      "outputs": []
    },
    {
      "cell_type": "code",
      "metadata": {
        "id": "I2ja0tu_hRXE"
      },
      "source": [
        "!zip -r /content/file.zip /content/data/reddit/\n"
      ],
      "execution_count": null,
      "outputs": []
    },
    {
      "cell_type": "code",
      "metadata": {
        "id": "zrbQZjIrcmxi"
      },
      "source": [
        "! apt-get install libxml-parser-perl"
      ],
      "execution_count": null,
      "outputs": []
    },
    {
      "cell_type": "code",
      "metadata": {
        "id": "ZS1QPwL_d8O4"
      },
      "source": [
        "!curl -kL http://cpanmin.us | perl - App::cpanminus\n",
        "!cpanm XML::DOM"
      ],
      "execution_count": null,
      "outputs": []
    },
    {
      "cell_type": "code",
      "metadata": {
        "id": "5kngRGL8ZgOW"
      },
      "source": [
        "!python preprocess_reddit.py \\\n",
        "    --data-dir data/"
      ],
      "execution_count": null,
      "outputs": []
    }
  ]
}